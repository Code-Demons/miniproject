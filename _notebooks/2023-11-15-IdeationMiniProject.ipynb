{
 "cells": [
  {
   "cell_type": "markdown",
   "metadata": {},
   "source": [
    "---\n",
    "layout: post\n",
    "title: Ideation for Mini Project\n",
    "description: The plan for our Computer Science A mini project.\n",
    "categories: []\n",
    "type: hacks\n",
    "courses: {csa: {week: 13} }\n",
    "---"
   ]
  },
  {
   "cell_type": "markdown",
   "metadata": {},
   "source": [
    "## Project Idea\n",
    "Our goal is to create an olympics for sorting algorithms and fibonacci sequences. We want to represent each sorting algorithm or fibonacci as a different athlete in the olympics. We then want to have each of the athletes compete agianst each other in different events representing different types of data sets to show how different sorting algorithms are better for different types of data: long, short, fully random, partially organized, etc. We also want to add something to let the player input a fibonacci number and the different methods race to see who can generate that number the fastest"
   ]
  },
  {
   "cell_type": "markdown",
   "metadata": {},
   "source": [
    "## Event Examples\n",
    "For long datasets we plan to create a cross country event where they have to circle a track twice, similar to a 800m to show which sorting algorithm performs better for larger amounts of data.\n",
    "\n",
    "## Track"
   ]
  },
  {
   "cell_type": "markdown",
   "metadata": {},
   "source": [
    "<img width=\"1003\" alt=\"Screenshot 2023-11-17 at 1 12 50 AM\" src=\"https://github.com/Code-Demons/miniproject/assets/111464993/b8eb1715-c85b-401d-893c-b11a8f25024a\">\n"
   ]
  },
  {
   "cell_type": "markdown",
   "metadata": {},
   "source": [
    "## Sorting\n",
    "- We want to represent each sorting algorithm as a different athlete in the olympics\n",
    "    - bubble\n",
    "    - insertion\n",
    "    - selection\n",
    "    - merge\n",
    "- We want to have each of the athletes compete agianst each other in different events representing different types of data sets to show how different sorting algorithms are better for different types of data\n",
    "    - long\n",
    "    - short\n",
    "    - fully random\n",
    "    - partially organized\n",
    "    - etc"
   ]
  },
  {
   "cell_type": "markdown",
   "metadata": {},
   "source": [
    "## Fibonacci\n",
    "- Using different fibonacci methods as the athletes and letting the user input a number to see which method it the fastest\n",
    "    - for loop\n",
    "    - recursion\n",
    "    - while\n",
    "    - matrices\n",
    "- One event as oppose to multiple for the sorting algorithms"
   ]
  },
  {
   "cell_type": "markdown",
   "metadata": {},
   "source": [
    "## Athlete Selection"
   ]
  },
  {
   "cell_type": "markdown",
   "metadata": {},
   "source": [
    "- For our athlete selection we wanted to include a way for the player to understand what sorting algorithms are better for which dataset types and why. In order to do this we wanted to make it so that while selecting their athletes, the player could read the attributes or stats of their athlete to know when the sorting algorithm is most effective and when it is least. I did this by including a attribute pop up when the player is hovering over an athlete in order to show all the attributes, strengths, and weakness of a given sorting method to help make the player make the best educated decision about which athlete to go with.\n",
    "    - https://code-demons.github.io/miniproject/selectionplanning"
   ]
  }
 ],
 "metadata": {
  "language_info": {
   "name": "python"
  },
  "orig_nbformat": 4
 },
 "nbformat": 4,
 "nbformat_minor": 2
}
