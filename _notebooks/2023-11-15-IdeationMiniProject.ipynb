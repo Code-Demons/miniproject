{
 "cells": [
  {
   "cell_type": "markdown",
   "metadata": {},
   "source": [
    "---\n",
    "layout: post\n",
    "title: Ideation for Mini Project\n",
    "description: The plan for our Computer Science A mini project.\n",
    "categories: []\n",
    "type: hacks\n",
    "courses: {csa: {week: 13} }\n",
    "---"
   ]
  },
  {
   "cell_type": "markdown",
   "metadata": {},
   "source": [
    "## Project Idea\n",
    "Our goal is to create an olympics for sorting algorithms and fibionachi sequences. We want to represent each sorting algorithm as a different athlete in the olympics: bubble, insertion, selection, and merge. And have each of the athletes compete agianst each other in different events representing different types of data sets to show how different sorting algorithms are better for different types of data: long, short, fully random, partially organized, etc."
   ]
  },
  {
   "cell_type": "markdown",
   "metadata": {},
   "source": [
    "## Event Examples\n",
    "For long datasets we plan to create a cross country event where they have to circle a track twice similar to a 800m to show which sorting algorithm performs better for larger amounts of data.\n",
    "\n",
    "## Track"
   ]
  },
  {
   "cell_type": "code",
   "execution_count": null,
   "metadata": {
    "vscode": {
     "languageId": "html"
    }
   },
   "outputs": [],
   "source": [
    "<img src=\\\"https://github.com/realethantran/fastpages_EthanT/assets/109186517/e2750a41-4e29-4f1c-b576-3a7d5db824b8\\\" width=\\\"100%\\\">"
   ]
  },
  {
   "cell_type": "markdown",
   "metadata": {},
   "source": [
    "## Athlete Selection"
   ]
  },
  {
   "cell_type": "code",
   "execution_count": null,
   "metadata": {
    "vscode": {
     "languageId": "html"
    }
   },
   "outputs": [],
   "source": [
    "<!DOCTYPE html>\n",
    "<html lang=\"en\">\n",
    "<head>\n",
    "  <meta charset=\"UTF-8\">\n",
    "  <meta name=\"viewport\" content=\"width=device-width, initial-scale=1.0\">\n",
    "  <style>\n",
    "    .athlete-selector {\n",
    "      display: flex;\n",
    "      justify-content: space-around;\n",
    "      margin-top: 50px;\n",
    "    }\n",
    "\n",
    "    .athlete-option {\n",
    "      position: relative;\n",
    "      cursor: pointer;\n",
    "      transition: transform 0.3s ease-in-out;\n",
    "    }\n",
    "\n",
    "    .athlete-option:hover {\n",
    "      transform: scale(1.1);\n",
    "    }\n",
    "\n",
    "    .athlete-option img {\n",
    "      width: 150px;\n",
    "      height: 150px;\n",
    "      border-radius: 50%;\n",
    "    }\n",
    "\n",
    "    .selected-athlete {\n",
    "      content: url(\"https://github.com/Code-Demons/miniproject/assets/40652645/213c0a9e-9c56-4484-9d69-3d1cc5984a5a\");\n",
    "    }\n",
    "\n",
    "    .athlete-option:hover .selected-athlete {\n",
    "      content: url(\"https://github.com/Code-Demons/miniproject/assets/40652645/6c68be6f-ae9d-44d6-8fb0-706604508827\");\n",
    "    }\n",
    "  </style>\n",
    "</head>\n",
    "<body>\n",
    "\n",
    "  <div class=\"athlete-selector\">\n",
    "    <div class=\"athlete-option\">\n",
    "      <img src=\"https://github.com/Code-Demons/miniproject/assets/40652645/4049e8b1-4b24-4c6f-a080-24504607145d\" alt=\"Bubble Athlete\">\n",
    "      <div class=\"selected-athlete\"></div>\n",
    "    </div>\n",
    "    <div class=\"athlete-option\">\n",
    "      <img src=\"https://github.com/Code-Demons/miniproject/assets/40652645/a4a76b53-cf84-4a7f-9093-bfa7dc6385c9\" alt=\"Merge Athlete\">\n",
    "      <div class=\"selected-athlete\"></div>\n",
    "    </div>\n",
    "  </div>\n",
    "\n",
    "</body>\n",
    "</html>\n"
   ]
  },
  {
   "cell_type": "markdown",
   "metadata": {
    "vscode": {
     "languageId": "html"
    }
   },
   "source": [
    "https://github.com/Code-Demons/miniproject/assets/40652645/4049e8b1-4b24-4c6f-a080-24504607145d\n",
    "https://github.com/Code-Demons/miniproject/assets/40652645/213c0a9e-9c56-4484-9d69-3d1cc5984a5a\n",
    "https://github.com/Code-Demons/miniproject/assets/40652645/a4a76b53-cf84-4a7f-9093-bfa7dc6385c9\n",
    "https://github.com/Code-Demons/miniproject/assets/40652645/6c68be6f-ae9d-44d6-8fb0-706604508827\n"
   ]
  }
 ],
 "metadata": {
  "language_info": {
   "name": "python"
  },
  "orig_nbformat": 4
 },
 "nbformat": 4,
 "nbformat_minor": 2
}
